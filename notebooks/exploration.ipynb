{
 "cells": [
  {
   "cell_type": "code",
   "execution_count": null,
   "id": "638d4e62",
   "metadata": {
    "vscode": {
     "languageId": "plaintext"
    }
   },
   "outputs": [],
   "source": [
    "import pandas as pd\n",
    "import matplotlib.pyplot as plt\n",
    "import seaborn as sns\n",
    "\n",
    "# Load data\n",
    "df = pd.read_csv(\"../sample_expenses.csv\")  # \"..\" moves one level up\n",
    "df[\"Date\"] = pd.to_datetime(df[\"Date\"])\n",
    "df[\"Month\"] = df[\"Date\"].dt.to_period(\"M\")\n",
    "df[\"Day\"] = df[\"Date\"].dt.date\n",
    "\n",
    "# View the first 5 rows\n",
    "df.head()\n"
   ]
  },
  {
   "cell_type": "code",
   "execution_count": null,
   "id": "90ce414a",
   "metadata": {
    "vscode": {
     "languageId": "plaintext"
    }
   },
   "outputs": [],
   "source": [
    "# Daily spending trend\n",
    "daily_spend = df.groupby(\"Day\")[\"Amount\"].sum()\n",
    "\n",
    "plt.figure(figsize=(10,4))\n",
    "sns.lineplot(x=daily_spend.index, y=daily_spend.values)\n",
    "plt.title(\"📅 Daily Spending Trend\")\n",
    "plt.ylabel(\"Amount (₹)\")\n",
    "plt.xticks(rotation=45)\n",
    "plt.grid(True)\n",
    "plt.tight_layout()\n",
    "plt.show()\n"
   ]
  },
  {
   "cell_type": "code",
   "execution_count": null,
   "id": "c0d6a846",
   "metadata": {
    "vscode": {
     "languageId": "plaintext"
    }
   },
   "outputs": [],
   "source": [
    "# Spend by Category\n",
    "category_spend = df.groupby(\"Category\")[\"Amount\"].sum().sort_values(ascending=False)\n",
    "\n",
    "plt.figure(figsize=(8,4))\n",
    "sns.barplot(x=category_spend.values, y=category_spend.index)\n",
    "plt.title(\"📂 Total Spend by Category\")\n",
    "plt.xlabel(\"Amount (₹)\")\n",
    "plt.tight_layout()\n",
    "plt.show()\n"
   ]
  },
  {
   "cell_type": "code",
   "execution_count": null,
   "id": "04045cde",
   "metadata": {
    "vscode": {
     "languageId": "plaintext"
    }
   },
   "outputs": [],
   "source": [
    "monthly_spend = df.groupby(\"Month\")[\"Amount\"].sum()\n",
    "\n",
    "plt.figure(figsize=(8,4))\n",
    "sns.barplot(x=monthly_spend.index.astype(str), y=monthly_spend.values)\n",
    "plt.title(\"📈 Monthly Spend Trend\")\n",
    "plt.xlabel(\"Month\")\n",
    "plt.ylabel(\"Amount (₹)\")\n",
    "plt.tight_layout()\n",
    "plt.show()\n"
   ]
  },
  {
   "cell_type": "code",
   "execution_count": null,
   "id": "a5b18136",
   "metadata": {
    "vscode": {
     "languageId": "plaintext"
    }
   },
   "outputs": [],
   "source": []
  }
 ],
 "metadata": {
  "language_info": {
   "name": "python"
  }
 },
 "nbformat": 4,
 "nbformat_minor": 5
}
